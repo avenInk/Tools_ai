{
 "cells": [
  {
   "cell_type": "code",
   "execution_count": 2,
   "metadata": {},
   "outputs": [],
   "source": [
    "import pandas as pd"
   ]
  },
  {
   "cell_type": "code",
   "execution_count": 3,
   "metadata": {},
   "outputs": [
    {
     "data": {
      "text/plain": [
       "3.7    Ryzen 5 5600X\n",
       "3.8    Ryzen 7 5800X\n",
       "3.7    Ryzen 9 5900X\n",
       "dtype: object"
      ]
     },
     "execution_count": 3,
     "metadata": {},
     "output_type": "execute_result"
    }
   ],
   "source": [
    "processors = pd.Series([\"Ryzen 5 5600X\", \"Ryzen 7 5800X\", \"Ryzen 9 5900X\"],\n",
    "            index = [3.7, 3.8, 3.7])\n",
    "processors"
   ]
  },
  {
   "cell_type": "code",
   "execution_count": 4,
   "metadata": {},
   "outputs": [
    {
     "data": {
      "text/plain": [
       "0    Ryzen 5 5600X\n",
       "1    Ryzen 7 5800X\n",
       "2    Ryzen 9 5900X\n",
       "dtype: object"
      ]
     },
     "execution_count": 4,
     "metadata": {},
     "output_type": "execute_result"
    }
   ],
   "source": [
    "processors_list = pd.Series([\"Ryzen 5 5600X\", \"Ryzen 7 5800X\", \"Ryzen 9 5900X\"])\n",
    "processors_list"
   ]
  },
  {
   "cell_type": "code",
   "execution_count": 5,
   "metadata": {},
   "outputs": [
    {
     "data": {
      "text/plain": [
       "3.7    Ryzen 5600X\n",
       "3.8    Ryzen 5800X\n",
       "3.7    Ryzen 5900X\n",
       "dtype: object"
      ]
     },
     "execution_count": 5,
     "metadata": {},
     "output_type": "execute_result"
    }
   ],
   "source": [
    "dict = {3.7 : 'Ryzen 5600X', 3.8 : 'Ryzen 5800X', '3.7' : 'Ryzen 5900X'}\n",
    "pd.Series(dict)"
   ]
  },
  {
   "cell_type": "code",
   "execution_count": 6,
   "metadata": {},
   "outputs": [
    {
     "data": {
      "text/plain": [
       "'Ryzen 7 5800X'"
      ]
     },
     "execution_count": 6,
     "metadata": {},
     "output_type": "execute_result"
    }
   ],
   "source": [
    "processors[3.8]"
   ]
  },
  {
   "cell_type": "code",
   "execution_count": 7,
   "metadata": {},
   "outputs": [
    {
     "data": {
      "text/plain": [
       "0    Ryzen 5 5600X\n",
       "1    Ryzen 7 5800X\n",
       "2    Ryzen 9 5900X\n",
       "dtype: object"
      ]
     },
     "execution_count": 7,
     "metadata": {},
     "output_type": "execute_result"
    }
   ],
   "source": [
    "processors_list[0:3]"
   ]
  },
  {
   "cell_type": "code",
   "execution_count": 9,
   "metadata": {},
   "outputs": [
    {
     "data": {
      "text/html": [
       "<div>\n",
       "<style scoped>\n",
       "    .dataframe tbody tr th:only-of-type {\n",
       "        vertical-align: middle;\n",
       "    }\n",
       "\n",
       "    .dataframe tbody tr th {\n",
       "        vertical-align: top;\n",
       "    }\n",
       "\n",
       "    .dataframe thead th {\n",
       "        text-align: right;\n",
       "    }\n",
       "</style>\n",
       "<table border=\"1\" class=\"dataframe\">\n",
       "  <thead>\n",
       "    <tr style=\"text-align: right;\">\n",
       "      <th></th>\n",
       "      <th>Bicicleta</th>\n",
       "      <th>Rodada</th>\n",
       "      <th>Talla</th>\n",
       "      <th>Material</th>\n",
       "      <th>Peso</th>\n",
       "    </tr>\n",
       "  </thead>\n",
       "  <tbody>\n",
       "    <tr>\n",
       "      <th>Ruta</th>\n",
       "      <td>Felt 700</td>\n",
       "      <td>700</td>\n",
       "      <td>52</td>\n",
       "      <td>Carbono</td>\n",
       "      <td>7</td>\n",
       "    </tr>\n",
       "    <tr>\n",
       "      <th>Gravel</th>\n",
       "      <td>Mérida Dirt</td>\n",
       "      <td>700</td>\n",
       "      <td>S</td>\n",
       "      <td>Aluminio</td>\n",
       "      <td>10</td>\n",
       "    </tr>\n",
       "    <tr>\n",
       "      <th>Montaña</th>\n",
       "      <td>Treck Marlin</td>\n",
       "      <td>29</td>\n",
       "      <td>M</td>\n",
       "      <td>Aluminio</td>\n",
       "      <td>12</td>\n",
       "    </tr>\n",
       "  </tbody>\n",
       "</table>\n",
       "</div>"
      ],
      "text/plain": [
       "            Bicicleta  Rodada Talla  Material  Peso\n",
       "Ruta         Felt 700     700    52   Carbono     7\n",
       "Gravel    Mérida Dirt     700     S  Aluminio    10\n",
       "Montaña  Treck Marlin      29     M  Aluminio    12"
      ]
     },
     "execution_count": 9,
     "metadata": {},
     "output_type": "execute_result"
    }
   ],
   "source": [
    "dict = {\n",
    "    'Bicicleta' : ['Felt 700', 'Mérida Dirt', 'Treck Marlin'],\n",
    "    'Rodada' : [700, 700, 29],\n",
    "    'Talla' : [52, 'S', 'M' ],\n",
    "    'Material' : ['Carbono', 'Aluminio', 'Aluminio'],\n",
    "    'Peso' : [7, 10, 12]\n",
    "}\n",
    "\n",
    "cleta = pd.DataFrame(dict, index = ['Ruta', 'Gravel', 'Montaña'])\n",
    "cleta"
   ]
  },
  {
   "cell_type": "code",
   "execution_count": 10,
   "metadata": {},
   "outputs": [
    {
     "data": {
      "text/plain": [
       "Index(['Bicicleta', 'Rodada', 'Talla', 'Material', 'Peso'], dtype='object')"
      ]
     },
     "execution_count": 10,
     "metadata": {},
     "output_type": "execute_result"
    }
   ],
   "source": [
    "cleta.columns"
   ]
  },
  {
   "cell_type": "code",
   "execution_count": 11,
   "metadata": {},
   "outputs": [
    {
     "data": {
      "text/plain": [
       "Index(['Ruta', 'Gravel', 'Montaña'], dtype='object')"
      ]
     },
     "execution_count": 11,
     "metadata": {},
     "output_type": "execute_result"
    }
   ],
   "source": [
    "cleta.index"
   ]
  }
 ],
 "metadata": {
  "kernelspec": {
   "display_name": "base",
   "language": "python",
   "name": "python3"
  },
  "language_info": {
   "codemirror_mode": {
    "name": "ipython",
    "version": 3
   },
   "file_extension": ".py",
   "mimetype": "text/x-python",
   "name": "python",
   "nbconvert_exporter": "python",
   "pygments_lexer": "ipython3",
   "version": "3.9.16"
  },
  "orig_nbformat": 4
 },
 "nbformat": 4,
 "nbformat_minor": 2
}
