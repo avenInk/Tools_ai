{
 "cells": [
  {
   "cell_type": "code",
   "execution_count": 12,
   "metadata": {},
   "outputs": [],
   "source": [
    "import seaborn as sns\n",
    "import matplotlib.pyplot as plt"
   ]
  },
  {
   "cell_type": "code",
   "execution_count": 14,
   "metadata": {},
   "outputs": [
    {
     "name": "stderr",
     "output_type": "stream",
     "text": [
      "findfont: Font family 'Verdana' not found.\n",
      "findfont: Font family 'Verdana' not found.\n",
      "findfont: Font family 'Verdana' not found.\n",
      "findfont: Font family 'Verdana' not found.\n",
      "findfont: Font family 'Verdana' not found.\n",
      "findfont: Font family 'Verdana' not found.\n",
      "findfont: Font family 'Verdana' not found.\n",
      "findfont: Font family 'Verdana' not found.\n",
      "findfont: Font family 'Verdana' not found.\n",
      "findfont: Font family 'Verdana' not found.\n",
      "findfont: Font family 'Verdana' not found.\n",
      "findfont: Font family 'Verdana' not found.\n",
      "findfont: Font family 'Verdana' not found.\n",
      "findfont: Font family 'Verdana' not found.\n",
      "findfont: Font family 'Verdana' not found.\n",
      "findfont: Font family 'Verdana' not found.\n",
      "findfont: Font family 'Verdana' not found.\n",
      "findfont: Font family 'Verdana' not found.\n",
      "findfont: Font family 'Verdana' not found.\n",
      "findfont: Font family 'Verdana' not found.\n",
      "findfont: Font family 'Verdana' not found.\n",
      "findfont: Font family 'Verdana' not found.\n",
      "findfont: Font family 'Verdana' not found.\n",
      "findfont: Font family 'Verdana' not found.\n",
      "findfont: Font family 'Verdana' not found.\n",
      "findfont: Font family 'Verdana' not found.\n",
      "findfont: Font family 'Verdana' not found.\n",
      "findfont: Font family 'Verdana' not found.\n",
      "findfont: Font family 'Verdana' not found.\n",
      "findfont: Font family 'Verdana' not found.\n",
      "findfont: Font family 'Verdana' not found.\n",
      "findfont: Font family 'Verdana' not found.\n"
     ]
    },
    {
     "data": {
      "image/png": "[encoded data removed]",
      "text/plain": [
       "<Figure size 640x480 with 1 Axes>"
      ]
     },
     "metadata": {},
     "output_type": "display_data"
    }
   ],
   "source": [
    "sns.set(style='dark', palette='dark', font = \"Verdana\", font_scale = 1)\n",
    "sns.barplot(x = [\"A\", 'B', 'C'], y = [1,3,2])\n",
    "plt.show()"
   ]
  },
  {
   "cell_type": "code",
   "execution_count": null,
   "metadata": {},
   "outputs": [],
   "source": []
  }
 ],
 "metadata": {
  "kernelspec": {
   "display_name": "base",
   "language": "python",
   "name": "python3"
  },
  "language_info": {
   "codemirror_mode": {
    "name": "ipython",
    "version": 3
   },
   "file_extension": ".py",
   "mimetype": "text/x-python",
   "name": "python",
   "nbconvert_exporter": "python",
   "pygments_lexer": "ipython3",
   "version": "3.9.16"
  },
  "orig_nbformat": 4
 },
 "nbformat": 4,
 "nbformat_minor": 2
}
